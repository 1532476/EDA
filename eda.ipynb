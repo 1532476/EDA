{
 "cells": [
  {
   "cell_type": "markdown",
   "id": "760115b1",
   "metadata": {},
   "source": [
    "#REALIZACION DE UN EDA"
   ]
  },
  {
   "cell_type": "markdown",
   "id": "29af92c4",
   "metadata": {},
   "source": [
    "**Este proceso representara las opeaciones principales de un eda**"
   ]
  },
  {
   "cell_type": "code",
   "execution_count": 3,
   "id": "5f9caad3",
   "metadata": {},
   "outputs": [],
   "source": [
    "import pandas as pd"
   ]
  },
  {
   "cell_type": "code",
   "execution_count": 4,
   "id": "6d146c50",
   "metadata": {},
   "outputs": [],
   "source": [
    "df = pd.read_csv(r\"D:\\Usuarios\\SP70071084\\Desktop\\CURSO\\EXPERIMENTOS\\KAGGLE\\archive\\sales data-set.csv\")"
   ]
  },
  {
   "cell_type": "code",
   "execution_count": 5,
   "id": "ada01216",
   "metadata": {},
   "outputs": [
    {
     "name": "stdout",
     "output_type": "stream",
     "text": [
      "<class 'pandas.core.frame.DataFrame'>\n",
      "RangeIndex: 421570 entries, 0 to 421569\n",
      "Data columns (total 5 columns):\n",
      " #   Column        Non-Null Count   Dtype  \n",
      "---  ------        --------------   -----  \n",
      " 0   Store         421570 non-null  int64  \n",
      " 1   Dept          421570 non-null  int64  \n",
      " 2   Date          421570 non-null  object \n",
      " 3   Weekly_Sales  421570 non-null  float64\n",
      " 4   IsHoliday     421570 non-null  bool   \n",
      "dtypes: bool(1), float64(1), int64(2), object(1)\n",
      "memory usage: 13.3+ MB\n"
     ]
    }
   ],
   "source": [
    "df.info()"
   ]
  },
  {
   "cell_type": "code",
   "execution_count": null,
   "id": "ce50235e",
   "metadata": {},
   "outputs": [],
   "source": [
    "import matplotlib.pyplot as plt\n"
   ]
  },
  {
   "cell_type": "code",
   "execution_count": 14,
   "id": "c2077617",
   "metadata": {},
   "outputs": [
    {
     "data": {
      "application/vnd.microsoft.datawrangler.viewer.v0+json": {
       "columns": [
        {
         "name": "index",
         "rawType": "int64",
         "type": "integer"
        },
        {
         "name": "Store",
         "rawType": "int64",
         "type": "integer"
        },
        {
         "name": "sum",
         "rawType": "float64",
         "type": "float"
        },
        {
         "name": "count",
         "rawType": "int64",
         "type": "integer"
        },
        {
         "name": "mean",
         "rawType": "float64",
         "type": "float"
        }
       ],
       "ref": "fd821e0a-e5fb-4748-ae1a-f1bc222f8aab",
       "rows": [
        [
         "0",
         "1",
         "222402808.85",
         "10244",
         "21710.543620655993"
        ],
        [
         "1",
         "2",
         "275382440.98",
         "10238",
         "26898.070031256106"
        ],
        [
         "2",
         "3",
         "57586735.07",
         "9036",
         "6373.03398295706"
        ],
        [
         "3",
         "4",
         "299543953.38",
         "10272",
         "29161.210414719626"
        ],
        [
         "4",
         "5",
         "45475688.9",
         "8999",
         "5053.4158128680965"
        ],
        [
         "5",
         "6",
         "223756130.64",
         "10211",
         "21913.243623543236"
        ],
        [
         "6",
         "7",
         "81598275.14",
         "9762",
         "8358.76614833026"
        ],
        [
         "7",
         "8",
         "129951181.13",
         "9895",
         "13133.014768064679"
        ],
        [
         "8",
         "9",
         "77789218.99",
         "8867",
         "8772.890378933122"
        ],
        [
         "9",
         "10",
         "271617713.89",
         "10315",
         "26332.303818710614"
        ],
        [
         "10",
         "11",
         "193962786.8",
         "10062",
         "19276.762750944148"
        ],
        [
         "11",
         "12",
         "144287230.15",
         "9705",
         "14867.308619268419"
        ],
        [
         "12",
         "13",
         "286517703.8",
         "10474",
         "27355.136891350012"
        ],
        [
         "13",
         "14",
         "288999911.34",
         "10040",
         "28784.85172709163"
        ],
        [
         "14",
         "15",
         "89133683.92",
         "9901",
         "9002.493073426927"
        ],
        [
         "15",
         "16",
         "74252425.4",
         "9443",
         "7863.224123689506"
        ],
        [
         "16",
         "17",
         "127782138.83",
         "9864",
         "12954.3936364558"
        ],
        [
         "17",
         "18",
         "155114734.21",
         "9859",
         "15733.313136220713"
        ],
        [
         "18",
         "19",
         "206634862.1",
         "10148",
         "20362.126734331887"
        ],
        [
         "19",
         "20",
         "301397792.46",
         "10214",
         "29508.30159193264"
        ],
        [
         "20",
         "21",
         "108117878.92",
         "9582",
         "11283.435495721144"
        ],
        [
         "21",
         "22",
         "147075648.57",
         "9688",
         "15181.218886251032"
        ],
        [
         "22",
         "23",
         "198750617.85",
         "10050",
         "19776.180880597014"
        ],
        [
         "23",
         "24",
         "194016021.28",
         "10228",
         "18969.106499804457"
        ],
        [
         "24",
         "25",
         "101061179.17",
         "9804",
         "10308.157810077519"
        ],
        [
         "25",
         "26",
         "143416393.79",
         "9854",
         "14554.129672214329"
        ],
        [
         "26",
         "27",
         "253855916.88",
         "10225",
         "24826.98453594132"
        ],
        [
         "27",
         "28",
         "189263680.58",
         "10113",
         "18714.889803223574"
        ],
        [
         "28",
         "29",
         "77141554.31",
         "9455",
         "8158.810609201481"
        ],
        [
         "29",
         "30",
         "62716885.12",
         "7156",
         "8764.237719396311"
        ],
        [
         "30",
         "31",
         "199613905.5",
         "10142",
         "19681.907464011045"
        ],
        [
         "31",
         "32",
         "166819246.16",
         "10202",
         "16351.621854538325"
        ],
        [
         "32",
         "33",
         "37160221.96",
         "6487",
         "5728.4140527208265"
        ],
        [
         "33",
         "34",
         "138249763.0",
         "10224",
         "13522.08167057903"
        ],
        [
         "34",
         "35",
         "131520672.08",
         "9528",
         "13803.59698572628"
        ],
        [
         "35",
         "36",
         "53412214.97",
         "6222",
         "8584.41256348441"
        ],
        [
         "36",
         "37",
         "74202740.32",
         "7206",
         "10297.355026366915"
        ],
        [
         "37",
         "38",
         "55159626.42",
         "7362",
         "7492.478459657702"
        ],
        [
         "38",
         "39",
         "207445542.47",
         "9878",
         "21000.763562462038"
        ],
        [
         "39",
         "40",
         "137870309.79",
         "10017",
         "13763.6328032345"
        ],
        [
         "40",
         "41",
         "181341934.89",
         "10088",
         "17976.004648096747"
        ],
        [
         "41",
         "42",
         "79565752.43",
         "6953",
         "11443.370117934706"
        ],
        [
         "42",
         "43",
         "90565435.41",
         "6751",
         "13415.114117908457"
        ],
        [
         "43",
         "44",
         "43293087.84",
         "7169",
         "6038.929814479007"
        ],
        [
         "44",
         "45",
         "112395341.42",
         "9637",
         "11662.897314516966"
        ]
       ],
       "shape": {
        "columns": 4,
        "rows": 45
       }
      },
      "text/html": [
       "<div>\n",
       "<style scoped>\n",
       "    .dataframe tbody tr th:only-of-type {\n",
       "        vertical-align: middle;\n",
       "    }\n",
       "\n",
       "    .dataframe tbody tr th {\n",
       "        vertical-align: top;\n",
       "    }\n",
       "\n",
       "    .dataframe thead th {\n",
       "        text-align: right;\n",
       "    }\n",
       "</style>\n",
       "<table border=\"1\" class=\"dataframe\">\n",
       "  <thead>\n",
       "    <tr style=\"text-align: right;\">\n",
       "      <th></th>\n",
       "      <th>Store</th>\n",
       "      <th>sum</th>\n",
       "      <th>count</th>\n",
       "      <th>mean</th>\n",
       "    </tr>\n",
       "  </thead>\n",
       "  <tbody>\n",
       "    <tr>\n",
       "      <th>0</th>\n",
       "      <td>1</td>\n",
       "      <td>2.224028e+08</td>\n",
       "      <td>10244</td>\n",
       "      <td>21710.543621</td>\n",
       "    </tr>\n",
       "    <tr>\n",
       "      <th>1</th>\n",
       "      <td>2</td>\n",
       "      <td>2.753824e+08</td>\n",
       "      <td>10238</td>\n",
       "      <td>26898.070031</td>\n",
       "    </tr>\n",
       "    <tr>\n",
       "      <th>2</th>\n",
       "      <td>3</td>\n",
       "      <td>5.758674e+07</td>\n",
       "      <td>9036</td>\n",
       "      <td>6373.033983</td>\n",
       "    </tr>\n",
       "    <tr>\n",
       "      <th>3</th>\n",
       "      <td>4</td>\n",
       "      <td>2.995440e+08</td>\n",
       "      <td>10272</td>\n",
       "      <td>29161.210415</td>\n",
       "    </tr>\n",
       "    <tr>\n",
       "      <th>4</th>\n",
       "      <td>5</td>\n",
       "      <td>4.547569e+07</td>\n",
       "      <td>8999</td>\n",
       "      <td>5053.415813</td>\n",
       "    </tr>\n",
       "    <tr>\n",
       "      <th>5</th>\n",
       "      <td>6</td>\n",
       "      <td>2.237561e+08</td>\n",
       "      <td>10211</td>\n",
       "      <td>21913.243624</td>\n",
       "    </tr>\n",
       "    <tr>\n",
       "      <th>6</th>\n",
       "      <td>7</td>\n",
       "      <td>8.159828e+07</td>\n",
       "      <td>9762</td>\n",
       "      <td>8358.766148</td>\n",
       "    </tr>\n",
       "    <tr>\n",
       "      <th>7</th>\n",
       "      <td>8</td>\n",
       "      <td>1.299512e+08</td>\n",
       "      <td>9895</td>\n",
       "      <td>13133.014768</td>\n",
       "    </tr>\n",
       "    <tr>\n",
       "      <th>8</th>\n",
       "      <td>9</td>\n",
       "      <td>7.778922e+07</td>\n",
       "      <td>8867</td>\n",
       "      <td>8772.890379</td>\n",
       "    </tr>\n",
       "    <tr>\n",
       "      <th>9</th>\n",
       "      <td>10</td>\n",
       "      <td>2.716177e+08</td>\n",
       "      <td>10315</td>\n",
       "      <td>26332.303819</td>\n",
       "    </tr>\n",
       "    <tr>\n",
       "      <th>10</th>\n",
       "      <td>11</td>\n",
       "      <td>1.939628e+08</td>\n",
       "      <td>10062</td>\n",
       "      <td>19276.762751</td>\n",
       "    </tr>\n",
       "    <tr>\n",
       "      <th>11</th>\n",
       "      <td>12</td>\n",
       "      <td>1.442872e+08</td>\n",
       "      <td>9705</td>\n",
       "      <td>14867.308619</td>\n",
       "    </tr>\n",
       "    <tr>\n",
       "      <th>12</th>\n",
       "      <td>13</td>\n",
       "      <td>2.865177e+08</td>\n",
       "      <td>10474</td>\n",
       "      <td>27355.136891</td>\n",
       "    </tr>\n",
       "    <tr>\n",
       "      <th>13</th>\n",
       "      <td>14</td>\n",
       "      <td>2.889999e+08</td>\n",
       "      <td>10040</td>\n",
       "      <td>28784.851727</td>\n",
       "    </tr>\n",
       "    <tr>\n",
       "      <th>14</th>\n",
       "      <td>15</td>\n",
       "      <td>8.913368e+07</td>\n",
       "      <td>9901</td>\n",
       "      <td>9002.493073</td>\n",
       "    </tr>\n",
       "    <tr>\n",
       "      <th>15</th>\n",
       "      <td>16</td>\n",
       "      <td>7.425243e+07</td>\n",
       "      <td>9443</td>\n",
       "      <td>7863.224124</td>\n",
       "    </tr>\n",
       "    <tr>\n",
       "      <th>16</th>\n",
       "      <td>17</td>\n",
       "      <td>1.277821e+08</td>\n",
       "      <td>9864</td>\n",
       "      <td>12954.393636</td>\n",
       "    </tr>\n",
       "    <tr>\n",
       "      <th>17</th>\n",
       "      <td>18</td>\n",
       "      <td>1.551147e+08</td>\n",
       "      <td>9859</td>\n",
       "      <td>15733.313136</td>\n",
       "    </tr>\n",
       "    <tr>\n",
       "      <th>18</th>\n",
       "      <td>19</td>\n",
       "      <td>2.066349e+08</td>\n",
       "      <td>10148</td>\n",
       "      <td>20362.126734</td>\n",
       "    </tr>\n",
       "    <tr>\n",
       "      <th>19</th>\n",
       "      <td>20</td>\n",
       "      <td>3.013978e+08</td>\n",
       "      <td>10214</td>\n",
       "      <td>29508.301592</td>\n",
       "    </tr>\n",
       "    <tr>\n",
       "      <th>20</th>\n",
       "      <td>21</td>\n",
       "      <td>1.081179e+08</td>\n",
       "      <td>9582</td>\n",
       "      <td>11283.435496</td>\n",
       "    </tr>\n",
       "    <tr>\n",
       "      <th>21</th>\n",
       "      <td>22</td>\n",
       "      <td>1.470756e+08</td>\n",
       "      <td>9688</td>\n",
       "      <td>15181.218886</td>\n",
       "    </tr>\n",
       "    <tr>\n",
       "      <th>22</th>\n",
       "      <td>23</td>\n",
       "      <td>1.987506e+08</td>\n",
       "      <td>10050</td>\n",
       "      <td>19776.180881</td>\n",
       "    </tr>\n",
       "    <tr>\n",
       "      <th>23</th>\n",
       "      <td>24</td>\n",
       "      <td>1.940160e+08</td>\n",
       "      <td>10228</td>\n",
       "      <td>18969.106500</td>\n",
       "    </tr>\n",
       "    <tr>\n",
       "      <th>24</th>\n",
       "      <td>25</td>\n",
       "      <td>1.010612e+08</td>\n",
       "      <td>9804</td>\n",
       "      <td>10308.157810</td>\n",
       "    </tr>\n",
       "    <tr>\n",
       "      <th>25</th>\n",
       "      <td>26</td>\n",
       "      <td>1.434164e+08</td>\n",
       "      <td>9854</td>\n",
       "      <td>14554.129672</td>\n",
       "    </tr>\n",
       "    <tr>\n",
       "      <th>26</th>\n",
       "      <td>27</td>\n",
       "      <td>2.538559e+08</td>\n",
       "      <td>10225</td>\n",
       "      <td>24826.984536</td>\n",
       "    </tr>\n",
       "    <tr>\n",
       "      <th>27</th>\n",
       "      <td>28</td>\n",
       "      <td>1.892637e+08</td>\n",
       "      <td>10113</td>\n",
       "      <td>18714.889803</td>\n",
       "    </tr>\n",
       "    <tr>\n",
       "      <th>28</th>\n",
       "      <td>29</td>\n",
       "      <td>7.714155e+07</td>\n",
       "      <td>9455</td>\n",
       "      <td>8158.810609</td>\n",
       "    </tr>\n",
       "    <tr>\n",
       "      <th>29</th>\n",
       "      <td>30</td>\n",
       "      <td>6.271689e+07</td>\n",
       "      <td>7156</td>\n",
       "      <td>8764.237719</td>\n",
       "    </tr>\n",
       "    <tr>\n",
       "      <th>30</th>\n",
       "      <td>31</td>\n",
       "      <td>1.996139e+08</td>\n",
       "      <td>10142</td>\n",
       "      <td>19681.907464</td>\n",
       "    </tr>\n",
       "    <tr>\n",
       "      <th>31</th>\n",
       "      <td>32</td>\n",
       "      <td>1.668192e+08</td>\n",
       "      <td>10202</td>\n",
       "      <td>16351.621855</td>\n",
       "    </tr>\n",
       "    <tr>\n",
       "      <th>32</th>\n",
       "      <td>33</td>\n",
       "      <td>3.716022e+07</td>\n",
       "      <td>6487</td>\n",
       "      <td>5728.414053</td>\n",
       "    </tr>\n",
       "    <tr>\n",
       "      <th>33</th>\n",
       "      <td>34</td>\n",
       "      <td>1.382498e+08</td>\n",
       "      <td>10224</td>\n",
       "      <td>13522.081671</td>\n",
       "    </tr>\n",
       "    <tr>\n",
       "      <th>34</th>\n",
       "      <td>35</td>\n",
       "      <td>1.315207e+08</td>\n",
       "      <td>9528</td>\n",
       "      <td>13803.596986</td>\n",
       "    </tr>\n",
       "    <tr>\n",
       "      <th>35</th>\n",
       "      <td>36</td>\n",
       "      <td>5.341221e+07</td>\n",
       "      <td>6222</td>\n",
       "      <td>8584.412563</td>\n",
       "    </tr>\n",
       "    <tr>\n",
       "      <th>36</th>\n",
       "      <td>37</td>\n",
       "      <td>7.420274e+07</td>\n",
       "      <td>7206</td>\n",
       "      <td>10297.355026</td>\n",
       "    </tr>\n",
       "    <tr>\n",
       "      <th>37</th>\n",
       "      <td>38</td>\n",
       "      <td>5.515963e+07</td>\n",
       "      <td>7362</td>\n",
       "      <td>7492.478460</td>\n",
       "    </tr>\n",
       "    <tr>\n",
       "      <th>38</th>\n",
       "      <td>39</td>\n",
       "      <td>2.074455e+08</td>\n",
       "      <td>9878</td>\n",
       "      <td>21000.763562</td>\n",
       "    </tr>\n",
       "    <tr>\n",
       "      <th>39</th>\n",
       "      <td>40</td>\n",
       "      <td>1.378703e+08</td>\n",
       "      <td>10017</td>\n",
       "      <td>13763.632803</td>\n",
       "    </tr>\n",
       "    <tr>\n",
       "      <th>40</th>\n",
       "      <td>41</td>\n",
       "      <td>1.813419e+08</td>\n",
       "      <td>10088</td>\n",
       "      <td>17976.004648</td>\n",
       "    </tr>\n",
       "    <tr>\n",
       "      <th>41</th>\n",
       "      <td>42</td>\n",
       "      <td>7.956575e+07</td>\n",
       "      <td>6953</td>\n",
       "      <td>11443.370118</td>\n",
       "    </tr>\n",
       "    <tr>\n",
       "      <th>42</th>\n",
       "      <td>43</td>\n",
       "      <td>9.056544e+07</td>\n",
       "      <td>6751</td>\n",
       "      <td>13415.114118</td>\n",
       "    </tr>\n",
       "    <tr>\n",
       "      <th>43</th>\n",
       "      <td>44</td>\n",
       "      <td>4.329309e+07</td>\n",
       "      <td>7169</td>\n",
       "      <td>6038.929814</td>\n",
       "    </tr>\n",
       "    <tr>\n",
       "      <th>44</th>\n",
       "      <td>45</td>\n",
       "      <td>1.123953e+08</td>\n",
       "      <td>9637</td>\n",
       "      <td>11662.897315</td>\n",
       "    </tr>\n",
       "  </tbody>\n",
       "</table>\n",
       "</div>"
      ],
      "text/plain": [
       "    Store           sum  count          mean\n",
       "0       1  2.224028e+08  10244  21710.543621\n",
       "1       2  2.753824e+08  10238  26898.070031\n",
       "2       3  5.758674e+07   9036   6373.033983\n",
       "3       4  2.995440e+08  10272  29161.210415\n",
       "4       5  4.547569e+07   8999   5053.415813\n",
       "5       6  2.237561e+08  10211  21913.243624\n",
       "6       7  8.159828e+07   9762   8358.766148\n",
       "7       8  1.299512e+08   9895  13133.014768\n",
       "8       9  7.778922e+07   8867   8772.890379\n",
       "9      10  2.716177e+08  10315  26332.303819\n",
       "10     11  1.939628e+08  10062  19276.762751\n",
       "11     12  1.442872e+08   9705  14867.308619\n",
       "12     13  2.865177e+08  10474  27355.136891\n",
       "13     14  2.889999e+08  10040  28784.851727\n",
       "14     15  8.913368e+07   9901   9002.493073\n",
       "15     16  7.425243e+07   9443   7863.224124\n",
       "16     17  1.277821e+08   9864  12954.393636\n",
       "17     18  1.551147e+08   9859  15733.313136\n",
       "18     19  2.066349e+08  10148  20362.126734\n",
       "19     20  3.013978e+08  10214  29508.301592\n",
       "20     21  1.081179e+08   9582  11283.435496\n",
       "21     22  1.470756e+08   9688  15181.218886\n",
       "22     23  1.987506e+08  10050  19776.180881\n",
       "23     24  1.940160e+08  10228  18969.106500\n",
       "24     25  1.010612e+08   9804  10308.157810\n",
       "25     26  1.434164e+08   9854  14554.129672\n",
       "26     27  2.538559e+08  10225  24826.984536\n",
       "27     28  1.892637e+08  10113  18714.889803\n",
       "28     29  7.714155e+07   9455   8158.810609\n",
       "29     30  6.271689e+07   7156   8764.237719\n",
       "30     31  1.996139e+08  10142  19681.907464\n",
       "31     32  1.668192e+08  10202  16351.621855\n",
       "32     33  3.716022e+07   6487   5728.414053\n",
       "33     34  1.382498e+08  10224  13522.081671\n",
       "34     35  1.315207e+08   9528  13803.596986\n",
       "35     36  5.341221e+07   6222   8584.412563\n",
       "36     37  7.420274e+07   7206  10297.355026\n",
       "37     38  5.515963e+07   7362   7492.478460\n",
       "38     39  2.074455e+08   9878  21000.763562\n",
       "39     40  1.378703e+08  10017  13763.632803\n",
       "40     41  1.813419e+08  10088  17976.004648\n",
       "41     42  7.956575e+07   6953  11443.370118\n",
       "42     43  9.056544e+07   6751  13415.114118\n",
       "43     44  4.329309e+07   7169   6038.929814\n",
       "44     45  1.123953e+08   9637  11662.897315"
      ]
     },
     "execution_count": 14,
     "metadata": {},
     "output_type": "execute_result"
    }
   ],
   "source": [
    "#agrupar por tienda y sumar, contar, promediar\n",
    "df_grouped = df.groupby('Store')['Weekly_Sales'].agg(['sum', 'count', 'mean']).reset_index()\n",
    "#RESET_INDEX sirve para convertir el resultado en un DataFrame\n",
    "df_grouped"
   ]
  },
  {
   "cell_type": "code",
   "execution_count": 17,
   "id": "b4bcb980",
   "metadata": {},
   "outputs": [
    {
     "data": {
      "image/png": "[encoded data removed]",
      "text/plain": [
       "<Figure size 1000x600 with 1 Axes>"
      ]
     },
     "metadata": {},
     "output_type": "display_data"
    },
    {
     "data": {
      "image/png": "[encoded data removed]",
      "text/plain": [
       "<Figure size 1000x600 with 1 Axes>"
      ]
     },
     "metadata": {},
     "output_type": "display_data"
    }
   ],
   "source": [
    "import matplotlib.pyplot as plt\n",
    "plt.figure(figsize=(10,6))\n",
    "plt.bar(df_grouped['Store'], df_grouped['sum'])\n",
    "plt.xlabel('Tienda')\n",
    "plt.ylabel('Ventas Totales')\n",
    "plt.title('Ventas Totales por Tienda')\n",
    "plt.show()\n",
    "\n",
    "# Gráfico de dispersión: Ventas semanales vs. Tienda\n",
    "plt.figure(figsize=(10,6))\n",
    "plt.scatter(df['Store'], df['Weekly_Sales'], alpha=0.5)\n",
    "plt.xlabel('Tienda')\n",
    "plt.ylabel('Ventas Semanales')\n",
    "plt.title('Dispersión de Ventas Semanales')\n",
    "plt.show()"
   ]
  },
  {
   "cell_type": "code",
   "execution_count": null,
   "id": "de3a0979",
   "metadata": {},
   "outputs": [],
   "source": []
  }
 ],
 "metadata": {
  "kernelspec": {
   "display_name": "Python 3",
   "language": "python",
   "name": "python3"
  },
  "language_info": {
   "codemirror_mode": {
    "name": "ipython",
    "version": 3
   },
   "file_extension": ".py",
   "mimetype": "text/x-python",
   "name": "python",
   "nbconvert_exporter": "python",
   "pygments_lexer": "ipython3",
   "version": "3.13.5"
  }
 },
 "nbformat": 4,
 "nbformat_minor": 5
}
